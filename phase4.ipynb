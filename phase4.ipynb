{
  "metadata": {
    "kernelspec": {
      "name": "python",
      "display_name": "Python (Pyodide)",
      "language": "python"
    },
    "language_info": {
      "codemirror_mode": {
        "name": "python",
        "version": 3
      },
      "file_extension": ".py",
      "mimetype": "text/x-python",
      "name": "python",
      "nbconvert_exporter": "python",
      "pygments_lexer": "ipython3",
      "version": "3.8"
    }
  },
  "nbformat_minor": 4,
  "nbformat": 4,
  "cells": [
    {
      "cell_type": "code",
      "source": "#This is a kaggle notebook.\n\nimport numpy as np # linear algebra\nimport pandas as pd # data processing, CSV file I/O (e.g. pd.read_csv)\nimport os\nfor dirname, _, filenames in os.walk('/kaggle/input'):\n    for filename in filenames:\n        print(os.path.join(dirname, filename))",
      "metadata": {
        "_uuid": "8f2839f25d086af736a60e9eeb907d3b93b6e0e5",
        "_cell_guid": "b1076dfc-b9ad-4769-8c92-a6c4dae69d19",
        "execution": {
          "iopub.status.busy": "2023-10-24T07:48:58.089713Z",
          "iopub.execute_input": "2023-10-24T07:48:58.090096Z",
          "iopub.status.idle": "2023-10-24T07:48:58.549808Z",
          "shell.execute_reply.started": "2023-10-24T07:48:58.090063Z",
          "shell.execute_reply": "2023-10-24T07:48:58.548720Z"
        },
        "trusted": true
      },
      "execution_count": 1,
      "outputs": [
        {
          "name": "stdout",
          "text": "/kaggle/input/market-basket-analysis/Assignment-1_Data.xlsx\n/kaggle/input/market-basket-analysis/Assignment-1_Data.csv\n",
          "output_type": "stream"
        }
      ]
    },
    {
      "cell_type": "code",
      "source": "import pandas as pd\n\n# Load the dataset\ndataset_path = 'Assignment-1_Data.xlsx'\ndf = pd.read_excel(dataset_path)",
      "metadata": {
        "execution": {
          "iopub.status.busy": "2023-10-24T07:48:58.551854Z",
          "iopub.execute_input": "2023-10-24T07:48:58.552368Z",
          "iopub.status.idle": "2023-10-24T07:50:31.642228Z",
          "shell.execute_reply.started": "2023-10-24T07:48:58.552335Z",
          "shell.execute_reply": "2023-10-24T07:50:31.641038Z"
        },
        "trusted": true
      },
      "execution_count": 2,
      "outputs": []
    },
    {
      "cell_type": "code",
      "source": "# Display basic information about the dataset\nprint(\"Number of rows and columns:\", df.shape)\nprint(\"\\nData Types and Missing Values:\")\nprint(df.info())\nprint(\"\\nFirst few rows of the dataset:\")\nprint(df.head())",
      "metadata": {
        "execution": {
          "iopub.status.busy": "2023-10-24T07:50:31.643864Z",
          "iopub.execute_input": "2023-10-24T07:50:31.644332Z",
          "iopub.status.idle": "2023-10-24T07:50:31.987421Z",
          "shell.execute_reply.started": "2023-10-24T07:50:31.644302Z",
          "shell.execute_reply": "2023-10-24T07:50:31.985753Z"
        },
        "trusted": true
      },
      "execution_count": 3,
      "outputs": [
        {
          "name": "stdout",
          "text": "Number of rows and columns: (522064, 7)\n\nData Types and Missing Values:\n<class 'pandas.core.frame.DataFrame'>\nRangeIndex: 522064 entries, 0 to 522063\nData columns (total 7 columns):\n #   Column      Non-Null Count   Dtype         \n---  ------      --------------   -----         \n 0   BillNo      522064 non-null  object        \n 1   Itemname    520609 non-null  object        \n 2   Quantity    522064 non-null  int64         \n 3   Date        522064 non-null  datetime64[ns]\n 4   Price       522064 non-null  float64       \n 5   CustomerID  388023 non-null  float64       \n 6   Country     522064 non-null  object        \ndtypes: datetime64[ns](1), float64(2), int64(1), object(3)\nmemory usage: 27.9+ MB\nNone\n\nFirst few rows of the dataset:\n   BillNo                             Itemname  Quantity                Date  \\\n0  536365   WHITE HANGING HEART T-LIGHT HOLDER         6 2010-12-01 08:26:00   \n1  536365                  WHITE METAL LANTERN         6 2010-12-01 08:26:00   \n2  536365       CREAM CUPID HEARTS COAT HANGER         8 2010-12-01 08:26:00   \n3  536365  KNITTED UNION FLAG HOT WATER BOTTLE         6 2010-12-01 08:26:00   \n4  536365       RED WOOLLY HOTTIE WHITE HEART.         6 2010-12-01 08:26:00   \n\n   Price  CustomerID         Country  \n0   2.55     17850.0  United Kingdom  \n1   3.39     17850.0  United Kingdom  \n2   2.75     17850.0  United Kingdom  \n3   3.39     17850.0  United Kingdom  \n4   3.39     17850.0  United Kingdom  \n",
          "output_type": "stream"
        }
      ]
    },
    {
      "cell_type": "code",
      "source": "#Check Missing Values\nprint(\"Missing Values:\")\nprint(df.isnull().sum())\n\n#Drop Rows with Missing Values\ndf.dropna(inplace=True)\n",
      "metadata": {
        "execution": {
          "iopub.status.busy": "2023-10-24T07:50:31.990680Z",
          "iopub.execute_input": "2023-10-24T07:50:31.991526Z",
          "iopub.status.idle": "2023-10-24T07:50:32.371143Z",
          "shell.execute_reply.started": "2023-10-24T07:50:31.991493Z",
          "shell.execute_reply": "2023-10-24T07:50:32.370008Z"
        },
        "trusted": true
      },
      "execution_count": 4,
      "outputs": [
        {
          "name": "stdout",
          "text": "Missing Values:\nBillNo             0\nItemname        1455\nQuantity           0\nDate               0\nPrice              0\nCustomerID    134041\nCountry            0\ndtype: int64\n",
          "output_type": "stream"
        }
      ]
    },
    {
      "cell_type": "code",
      "source": "# Convert dataframe into transaction data\ntransaction_data = df.groupby(['BillNo', 'Date'])['Itemname'].apply(lambda x: ', '.join(x)).reset_index()\n\n#Drop Unnecessary Columns\ncolumns_to_drop = ['BillNo', 'Date']\ntransaction_data.drop(columns=columns_to_drop, inplace=True)\n\n# Save the transaction data to a CSV file\ntransaction_data_path = '/kaggle/working/transaction_data.csv'\ntransaction_data.to_csv(transaction_data_path, index=False)",
      "metadata": {
        "execution": {
          "iopub.status.busy": "2023-10-24T07:50:32.373214Z",
          "iopub.execute_input": "2023-10-24T07:50:32.373698Z",
          "iopub.status.idle": "2023-10-24T07:50:34.029292Z",
          "shell.execute_reply.started": "2023-10-24T07:50:32.373643Z",
          "shell.execute_reply": "2023-10-24T07:50:34.028267Z"
        },
        "trusted": true
      },
      "execution_count": 5,
      "outputs": []
    },
    {
      "cell_type": "code",
      "source": "# Display the first few rows of the transaction data\nprint(\"\\nTransaction Data for Association Rule Mining:\")\nprint(transaction_data.head())\ntransaction_data.shape",
      "metadata": {
        "execution": {
          "iopub.status.busy": "2023-10-24T07:50:34.030829Z",
          "iopub.execute_input": "2023-10-24T07:50:34.031288Z",
          "iopub.status.idle": "2023-10-24T07:50:34.043407Z",
          "shell.execute_reply.started": "2023-10-24T07:50:34.031192Z",
          "shell.execute_reply": "2023-10-24T07:50:34.042242Z"
        },
        "trusted": true
      },
      "execution_count": 6,
      "outputs": [
        {
          "name": "stdout",
          "text": "\nTransaction Data for Association Rule Mining:\n                                            Itemname\n0  WHITE HANGING HEART T-LIGHT HOLDER, WHITE META...\n1  HAND WARMER UNION JACK, HAND WARMER RED POLKA DOT\n2  ASSORTED COLOUR BIRD ORNAMENT, POPPY'S PLAYHOU...\n3  JAM MAKING SET WITH JARS, RED COAT RACK PARIS ...\n4                           BATH BUILDING BLOCK WORD\n",
          "output_type": "stream"
        },
        {
          "execution_count": 6,
          "output_type": "execute_result",
          "data": {
            "text/plain": "(18192, 1)"
          },
          "metadata": {}
        }
      ]
    },
    {
      "cell_type": "markdown",
      "source": "# Phase 4 starts from here\n\n",
      "metadata": {}
    },
    {
      "cell_type": "code",
      "source": "# Split the 'Itemname' column into individual items\nitems_df = transaction_data['Itemname'].str.split(', ', expand=True)\n\n# Concatenate the original DataFrame with the new items DataFrame\ntransaction_data = pd.concat([transaction_data, items_df], axis=1)\n\n# Drop the original 'Itemname' column\ntransaction_data = transaction_data.drop('Itemname', axis=1)\n\n# Display the resulting DataFrame\nprint(transaction_data.head())",
      "metadata": {
        "tags": [],
        "trusted": true
      },
      "execution_count": 1,
      "outputs": [
        {
          "ename": "<class 'NameError'>",
          "evalue": "name 'transaction_data' is not defined",
          "traceback": [
            "\u001b[0;31m---------------------------------------------------------------------------\u001b[0m",
            "\u001b[0;31mNameError\u001b[0m                                 Traceback (most recent call last)",
            "Cell \u001b[0;32mIn[1], line 2\u001b[0m\n\u001b[1;32m      1\u001b[0m \u001b[38;5;66;03m# Split the 'Itemname' column into individual items\u001b[39;00m\n\u001b[0;32m----> 2\u001b[0m items_df \u001b[38;5;241m=\u001b[39m \u001b[43mtransaction_data\u001b[49m[\u001b[38;5;124m'\u001b[39m\u001b[38;5;124mItemname\u001b[39m\u001b[38;5;124m'\u001b[39m]\u001b[38;5;241m.\u001b[39mstr\u001b[38;5;241m.\u001b[39msplit(\u001b[38;5;124m'\u001b[39m\u001b[38;5;124m, \u001b[39m\u001b[38;5;124m'\u001b[39m, expand\u001b[38;5;241m=\u001b[39m\u001b[38;5;28;01mTrue\u001b[39;00m)\n\u001b[1;32m      4\u001b[0m \u001b[38;5;66;03m# Concatenate the original DataFrame with the new items DataFrame\u001b[39;00m\n\u001b[1;32m      5\u001b[0m transaction_data \u001b[38;5;241m=\u001b[39m pd\u001b[38;5;241m.\u001b[39mconcat([transaction_data, items_df], axis\u001b[38;5;241m=\u001b[39m\u001b[38;5;241m1\u001b[39m)\n",
            "\u001b[0;31mNameError\u001b[0m: name 'transaction_data' is not defined"
          ],
          "output_type": "error"
        }
      ]
    },
    {
      "cell_type": "code",
      "source": "# Convert items to boolean columns\ndf_encoded = pd.get_dummies(transaction_data, prefix='', prefix_sep='').groupby(level=0, axis=1).max()\n\n# Save the transaction data to a CSV file\ndf_encoded.to_csv('transaction_data_encoded.csv', index=False)\n",
      "metadata": {
        "tags": [],
        "trusted": true
      },
      "execution_count": 2,
      "outputs": [
        {
          "ename": "<class 'NameError'>",
          "evalue": "name 'pd' is not defined",
          "traceback": [
            "\u001b[0;31m---------------------------------------------------------------------------\u001b[0m",
            "\u001b[0;31mNameError\u001b[0m                                 Traceback (most recent call last)",
            "Cell \u001b[0;32mIn[2], line 2\u001b[0m\n\u001b[1;32m      1\u001b[0m \u001b[38;5;66;03m# Convert items to boolean columns\u001b[39;00m\n\u001b[0;32m----> 2\u001b[0m df_encoded \u001b[38;5;241m=\u001b[39m \u001b[43mpd\u001b[49m\u001b[38;5;241m.\u001b[39mget_dummies(transaction_data, prefix\u001b[38;5;241m=\u001b[39m\u001b[38;5;124m'\u001b[39m\u001b[38;5;124m'\u001b[39m, prefix_sep\u001b[38;5;241m=\u001b[39m\u001b[38;5;124m'\u001b[39m\u001b[38;5;124m'\u001b[39m)\u001b[38;5;241m.\u001b[39mgroupby(level\u001b[38;5;241m=\u001b[39m\u001b[38;5;241m0\u001b[39m, axis\u001b[38;5;241m=\u001b[39m\u001b[38;5;241m1\u001b[39m)\u001b[38;5;241m.\u001b[39mmax()\n\u001b[1;32m      4\u001b[0m \u001b[38;5;66;03m# Save the transaction data to a CSV file\u001b[39;00m\n\u001b[1;32m      5\u001b[0m df_encoded\u001b[38;5;241m.\u001b[39mto_csv(\u001b[38;5;124m'\u001b[39m\u001b[38;5;124mtransaction_data_encoded.csv\u001b[39m\u001b[38;5;124m'\u001b[39m, index\u001b[38;5;241m=\u001b[39m\u001b[38;5;28;01mFalse\u001b[39;00m)\n",
            "\u001b[0;31mNameError\u001b[0m: name 'pd' is not defined"
          ],
          "output_type": "error"
        }
      ]
    },
    {
      "cell_type": "code",
      "source": "# Load transaction data into a DataFrame\ndf_encoded = pd.read_csv('transaction_data_encoded.csv')\n\nfrom mlxtend.frequent_patterns import apriori, association_rules\n\n# Association Rule Mining\nfrequent_itemsets = apriori(df_encoded, min_support=0.007, use_colnames=True)\nrules = association_rules(frequent_itemsets, metric=\"confidence\", min_threshold=0.5)\n\n# Display information of the rules\nprint(\"Association Rules:\")\nprint(rules.head())",
      "metadata": {
        "tags": [],
        "trusted": true
      },
      "execution_count": 3,
      "outputs": [
        {
          "ename": "<class 'NameError'>",
          "evalue": "name 'pd' is not defined",
          "traceback": [
            "\u001b[0;31m---------------------------------------------------------------------------\u001b[0m",
            "\u001b[0;31mNameError\u001b[0m                                 Traceback (most recent call last)",
            "Cell \u001b[0;32mIn[3], line 2\u001b[0m\n\u001b[1;32m      1\u001b[0m \u001b[38;5;66;03m# Load transaction data into a DataFrame\u001b[39;00m\n\u001b[0;32m----> 2\u001b[0m df_encoded \u001b[38;5;241m=\u001b[39m \u001b[43mpd\u001b[49m\u001b[38;5;241m.\u001b[39mread_csv(\u001b[38;5;124m'\u001b[39m\u001b[38;5;124mtransaction_data_encoded.csv\u001b[39m\u001b[38;5;124m'\u001b[39m)\n\u001b[1;32m      4\u001b[0m \u001b[38;5;28;01mfrom\u001b[39;00m \u001b[38;5;21;01mmlxtend\u001b[39;00m\u001b[38;5;21;01m.\u001b[39;00m\u001b[38;5;21;01mfrequent_patterns\u001b[39;00m \u001b[38;5;28;01mimport\u001b[39;00m apriori, association_rules\n\u001b[1;32m      6\u001b[0m \u001b[38;5;66;03m# Association Rule Mining\u001b[39;00m\n",
            "\u001b[0;31mNameError\u001b[0m: name 'pd' is not defined"
          ],
          "output_type": "error"
        }
      ]
    },
    {
      "cell_type": "code",
      "source": "import matplotlib.pyplot as plt\nimport seaborn as sns\n\n# Plot scatterplot for Support vs. Confidence\nplt.figure(figsize=(12, 8))\nsns.scatterplot(x=\"support\", y=\"confidence\", size=\"lift\", data=rules, hue=\"lift\", palette=\"viridis\", sizes=(20, 200))\nplt.title('Market Basket Analysis - Support vs. Confidence (Size = Lift)')\nplt.xlabel('Support')\nplt.ylabel('Confidence')\nplt.legend(title='Lift', loc='upper right', bbox_to_anchor=(1.2, 1))\nplt.show()\n",
      "metadata": {
        "tags": [],
        "trusted": true
      },
      "execution_count": 4,
      "outputs": [
        {
          "ename": "<class 'ModuleNotFoundError'>",
          "evalue": "No module named 'seaborn'",
          "traceback": [
            "\u001b[0;31m---------------------------------------------------------------------------\u001b[0m",
            "\u001b[0;31mModuleNotFoundError\u001b[0m                       Traceback (most recent call last)",
            "Cell \u001b[0;32mIn[4], line 2\u001b[0m\n\u001b[1;32m      1\u001b[0m \u001b[38;5;28;01mimport\u001b[39;00m \u001b[38;5;21;01mmatplotlib\u001b[39;00m\u001b[38;5;21;01m.\u001b[39;00m\u001b[38;5;21;01mpyplot\u001b[39;00m \u001b[38;5;28;01mas\u001b[39;00m \u001b[38;5;21;01mplt\u001b[39;00m\n\u001b[0;32m----> 2\u001b[0m \u001b[38;5;28;01mimport\u001b[39;00m \u001b[38;5;21;01mseaborn\u001b[39;00m \u001b[38;5;28;01mas\u001b[39;00m \u001b[38;5;21;01msns\u001b[39;00m\n\u001b[1;32m      4\u001b[0m \u001b[38;5;66;03m# Plot scatterplot for Support vs. Confidence\u001b[39;00m\n\u001b[1;32m      5\u001b[0m plt\u001b[38;5;241m.\u001b[39mfigure(figsize\u001b[38;5;241m=\u001b[39m(\u001b[38;5;241m12\u001b[39m, \u001b[38;5;241m8\u001b[39m))\n",
            "\u001b[0;31mModuleNotFoundError\u001b[0m: No module named 'seaborn'"
          ],
          "output_type": "error"
        }
      ]
    },
    {
      "cell_type": "code",
      "source": "import plotly.express as px\n\n# Convert frozensets to lists for serialization\nrules['antecedents'] = rules['antecedents'].apply(list)\nrules['consequents'] = rules['consequents'].apply(list)\n\n# Create an interactive scatter plot using plotly express\nfig = px.scatter(rules, x=\"support\", y=\"confidence\", size=\"lift\",\n                 color=\"lift\", hover_name=\"consequents\",\n                 title='Market Basket Analysis - Support vs. Confidence',\n                 labels={'support': 'Support', 'confidence': 'Confidence'})\n\n# Customize the layout\nfig.update_layout(\n    xaxis_title='Support',\n    yaxis_title='Confidence',\n    coloraxis_colorbar_title='Lift',\n    showlegend=True\n)\n\n# Show the interactive plot\nfig.show()\n",
      "metadata": {
        "tags": [],
        "trusted": true
      },
      "execution_count": 5,
      "outputs": [
        {
          "ename": "<class 'ModuleNotFoundError'>",
          "evalue": "No module named 'plotly'",
          "traceback": [
            "\u001b[0;31m---------------------------------------------------------------------------\u001b[0m",
            "\u001b[0;31mModuleNotFoundError\u001b[0m                       Traceback (most recent call last)",
            "Cell \u001b[0;32mIn[5], line 1\u001b[0m\n\u001b[0;32m----> 1\u001b[0m \u001b[38;5;28;01mimport\u001b[39;00m \u001b[38;5;21;01mplotly\u001b[39;00m\u001b[38;5;21;01m.\u001b[39;00m\u001b[38;5;21;01mexpress\u001b[39;00m \u001b[38;5;28;01mas\u001b[39;00m \u001b[38;5;21;01mpx\u001b[39;00m\n\u001b[1;32m      3\u001b[0m \u001b[38;5;66;03m# Convert frozensets to lists for serialization\u001b[39;00m\n\u001b[1;32m      4\u001b[0m rules[\u001b[38;5;124m'\u001b[39m\u001b[38;5;124mantecedents\u001b[39m\u001b[38;5;124m'\u001b[39m] \u001b[38;5;241m=\u001b[39m rules[\u001b[38;5;124m'\u001b[39m\u001b[38;5;124mantecedents\u001b[39m\u001b[38;5;124m'\u001b[39m]\u001b[38;5;241m.\u001b[39mapply(\u001b[38;5;28mlist\u001b[39m)\n",
            "\u001b[0;31mModuleNotFoundError\u001b[0m: No module named 'plotly'"
          ],
          "output_type": "error"
        }
      ]
    },
    {
      "cell_type": "code",
      "source": "import networkx as nx\nimport matplotlib.pyplot as plt\nimport plotly.graph_objects as go\n\n# Create a directed graph\nG = nx.DiGraph()\n\n# Add nodes and edges from association rules\nfor idx, row in rules.iterrows():\n    G.add_node(tuple(row['antecedents']), color='skyblue')\n    G.add_node(tuple(row['consequents']), color='orange')\n    G.add_edge(tuple(row['antecedents']), tuple(row['consequents']), weight=row['support'])\n\n# Set node positions using a spring layout\npos = nx.spring_layout(G)\n\n# Create an interactive plot using plotly\nedge_x = []\nedge_y = []\nfor edge in G.edges(data=True):\n    x0, y0 = pos[edge[0]]\n    x1, y1 = pos[edge[1]]\n    edge_x.append(x0)\n    edge_x.append(x1)\n    edge_x.append(None)\n    edge_y.append(y0)\n    edge_y.append(y1)\n    edge_y.append(None)\n\nedge_trace = go.Scatter(\n    x=edge_x, y=edge_y,\n    line=dict(width=0.5, color='#888'),\n    hoverinfo='none',\n    mode='lines')\n\nnode_x = []\nnode_y = []\nfor node in G.nodes():\n    x, y = pos[node]\n    node_x.append(x)\n    node_y.append(y)\n\nnode_trace = go.Scatter(\n    x=node_x, y=node_y,\n    mode='markers',\n    hoverinfo='text',\n    marker=dict(\n        showscale=True,\n        colorscale='YlGnBu',\n        size=10,\n        colorbar=dict(\n            thickness=15,\n            title='Node Connections',\n            xanchor='left',\n            titleside='right'\n        )\n    )\n)\n\n# Customize the layout\nlayout = go.Layout(\n    showlegend=False,\n    hovermode='closest',\n    margin=dict(b=0, l=0, r=0, t=0),\n)\n\n# Create the figure\nfig = go.Figure(data=[edge_trace, node_trace], layout=layout)\n\n# Show the interactive graph\nfig.show()\n",
      "metadata": {
        "tags": [],
        "trusted": true
      },
      "execution_count": 6,
      "outputs": [
        {
          "ename": "<class 'ModuleNotFoundError'>",
          "evalue": "No module named 'plotly'",
          "traceback": [
            "\u001b[0;31m---------------------------------------------------------------------------\u001b[0m",
            "\u001b[0;31mModuleNotFoundError\u001b[0m                       Traceback (most recent call last)",
            "Cell \u001b[0;32mIn[6], line 3\u001b[0m\n\u001b[1;32m      1\u001b[0m \u001b[38;5;28;01mimport\u001b[39;00m \u001b[38;5;21;01mnetworkx\u001b[39;00m \u001b[38;5;28;01mas\u001b[39;00m \u001b[38;5;21;01mnx\u001b[39;00m\n\u001b[1;32m      2\u001b[0m \u001b[38;5;28;01mimport\u001b[39;00m \u001b[38;5;21;01mmatplotlib\u001b[39;00m\u001b[38;5;21;01m.\u001b[39;00m\u001b[38;5;21;01mpyplot\u001b[39;00m \u001b[38;5;28;01mas\u001b[39;00m \u001b[38;5;21;01mplt\u001b[39;00m\n\u001b[0;32m----> 3\u001b[0m \u001b[38;5;28;01mimport\u001b[39;00m \u001b[38;5;21;01mplotly\u001b[39;00m\u001b[38;5;21;01m.\u001b[39;00m\u001b[38;5;21;01mgraph_objects\u001b[39;00m \u001b[38;5;28;01mas\u001b[39;00m \u001b[38;5;21;01mgo\u001b[39;00m\n\u001b[1;32m      5\u001b[0m \u001b[38;5;66;03m# Create a directed graph\u001b[39;00m\n\u001b[1;32m      6\u001b[0m G \u001b[38;5;241m=\u001b[39m nx\u001b[38;5;241m.\u001b[39mDiGraph()\n",
            "\u001b[0;31mModuleNotFoundError\u001b[0m: No module named 'plotly'"
          ],
          "output_type": "error"
        }
      ]
    },
    {
      "cell_type": "code",
      "source": "import plotly.express as px\n\n# Combine antecedents and consequents into a single column for each rule\nrules['rule'] = rules['antecedents'].astype(str) + ' -> ' + rules['consequents'].astype(str)\n\n# Create a sunburst chart\nfig = px.sunburst(rules, path=['rule'], values='lift', \n                  title='Market Basket Analysis - Sunburst Chart',\n                  color='support', color_continuous_scale='YlGnBu')\n\n# Customize the layout\nfig.update_layout(\n    margin=dict(l=0, r=0, b=0, t=40),\n)\n\n# Show the interactive plot\nfig.show()\n",
      "metadata": {
        "tags": [],
        "trusted": true
      },
      "execution_count": 7,
      "outputs": [
        {
          "ename": "<class 'ModuleNotFoundError'>",
          "evalue": "No module named 'plotly'",
          "traceback": [
            "\u001b[0;31m---------------------------------------------------------------------------\u001b[0m",
            "\u001b[0;31mModuleNotFoundError\u001b[0m                       Traceback (most recent call last)",
            "Cell \u001b[0;32mIn[7], line 1\u001b[0m\n\u001b[0;32m----> 1\u001b[0m \u001b[38;5;28;01mimport\u001b[39;00m \u001b[38;5;21;01mplotly\u001b[39;00m\u001b[38;5;21;01m.\u001b[39;00m\u001b[38;5;21;01mexpress\u001b[39;00m \u001b[38;5;28;01mas\u001b[39;00m \u001b[38;5;21;01mpx\u001b[39;00m\n\u001b[1;32m      3\u001b[0m \u001b[38;5;66;03m# Combine antecedents and consequents into a single column for each rule\u001b[39;00m\n\u001b[1;32m      4\u001b[0m rules[\u001b[38;5;124m'\u001b[39m\u001b[38;5;124mrule\u001b[39m\u001b[38;5;124m'\u001b[39m] \u001b[38;5;241m=\u001b[39m rules[\u001b[38;5;124m'\u001b[39m\u001b[38;5;124mantecedents\u001b[39m\u001b[38;5;124m'\u001b[39m]\u001b[38;5;241m.\u001b[39mastype(\u001b[38;5;28mstr\u001b[39m) \u001b[38;5;241m+\u001b[39m \u001b[38;5;124m'\u001b[39m\u001b[38;5;124m -> \u001b[39m\u001b[38;5;124m'\u001b[39m \u001b[38;5;241m+\u001b[39m rules[\u001b[38;5;124m'\u001b[39m\u001b[38;5;124mconsequents\u001b[39m\u001b[38;5;124m'\u001b[39m]\u001b[38;5;241m.\u001b[39mastype(\u001b[38;5;28mstr\u001b[39m)\n",
            "\u001b[0;31mModuleNotFoundError\u001b[0m: No module named 'plotly'"
          ],
          "output_type": "error"
        }
      ]
    }
  ]
}